{
 "cells": [
  {
   "cell_type": "code",
   "execution_count": 2,
   "id": "5eb51d65",
   "metadata": {},
   "outputs": [],
   "source": [
    "#pip install cvzone"
   ]
  },
  {
   "cell_type": "code",
   "execution_count": 1,
   "id": "5d395098",
   "metadata": {},
   "outputs": [],
   "source": [
    "import cv2\n",
    "import pickle\n",
    "import cvzone"
   ]
  },
  {
   "cell_type": "code",
   "execution_count": 8,
   "id": "9e0e92fc",
   "metadata": {},
   "outputs": [],
   "source": [
    "width,height=60,30\n",
    "\n",
    "try:\n",
    "    with open('carparkpos','rb') as f:\n",
    "        position=pickle.load(f)\n",
    "except:\n",
    "        position=[]\n",
    "def mouseclick(event,x,y,flags,params):\n",
    "    if event==cv2.EVENT_LBUTTONDOWN:\n",
    "        position.append((x,y))\n",
    "    if event==cv2.EVENT_RBUTTONDOWN:\n",
    "        for i,poss in enumerate(position):\n",
    "            x1,y1=poss\n",
    "            if x1<x<x1+width and y1<y<y1+height:\n",
    "                position.pop(i)\n",
    "    with open('carparkpos','wb') as f:\n",
    "        pickle.dump(position,f)\n",
    "\n",
    "        \n",
    "while True:\n",
    "    img=cv2.imread('carpark.png')\n",
    "    img=cv2.resize(img,(700,500))\n",
    "\n",
    "    for pos in position:\n",
    "        cv2.rectangle(img,pos,(pos[0]+width,pos[1]+height),(255,0,255),2)\n",
    "\n",
    "    cv2.imshow('img',img)\n",
    "    cv2.setMouseCallback('img',mouseclick)\n",
    "\n",
    "    if cv2.waitKey(1) & 0xFF==ord('q'):\n",
    "        break\n",
    "cv2.destroyAllWindows()"
   ]
  },
  {
   "cell_type": "code",
   "execution_count": 2,
   "id": "0d5d3124",
   "metadata": {},
   "outputs": [],
   "source": [
    "#we can find the parking space is free or not by looking for edges\n",
    "#if there are very much edges are present then there is an car is parked."
   ]
  },
  {
   "cell_type": "code",
   "execution_count": 34,
   "id": "fb1a4e30",
   "metadata": {},
   "outputs": [
    {
     "data": {
      "application/javascript": [
       "\n",
       "        if (window._pyforest_update_imports_cell) { window._pyforest_update_imports_cell('import numpy as np'); }\n",
       "    "
      ],
      "text/plain": [
       "<IPython.core.display.Javascript object>"
      ]
     },
     "metadata": {},
     "output_type": "display_data"
    },
    {
     "data": {
      "application/javascript": [
       "\n",
       "        if (window._pyforest_update_imports_cell) { window._pyforest_update_imports_cell('import numpy as np'); }\n",
       "    "
      ],
      "text/plain": [
       "<IPython.core.display.Javascript object>"
      ]
     },
     "metadata": {},
     "output_type": "display_data"
    }
   ],
   "source": [
    "cap=cv2.VideoCapture('carPark.mp4')\n",
    "\n",
    "width,height=60,30\n",
    "kernel=np.zeros((3,3),np.uint8)\n",
    "with open('carparkpos','rb') as f:\n",
    "    position=pickle.load(f)\n",
    "\n",
    "def checkparkingspace(imageprocessed):\n",
    "    spacecounter=0\n",
    "    for pos in position:\n",
    "        \n",
    "        x,y=pos\n",
    "        #cv2.rectangle(img,pos,(pos[0]+width,pos[1]+height),(255,0,255),2)\n",
    "        cv2.imshow('Image',img)\n",
    "        imgcrop=imageprocessed[y:y+height,x:x+width]\n",
    "        #cv2.imshow(str(x+y),imgcrop)\n",
    "        count=cv2.countNonZero(imgcrop)\n",
    "        cvzone.putTextRect(img,str(count),(x,y+height+5),scale=1,thickness=2,offset=0,colorR=(0,255,0))\n",
    "        if count<200:\n",
    "            color=(255,0,0)\n",
    "            thick=1\n",
    "            spacecounter+=1\n",
    "            cv2.rectangle(img,pos,(pos[0]+width,pos[1]+height),color,thick)\n",
    "        else:\n",
    "            color=(0,0,250)\n",
    "            thick=1\n",
    "            cv2.rectangle(img,pos,(pos[0]+width,pos[1]+height),color,thick)\n",
    "        cvzone.putTextRect(img,f'Parking Available{str(spacecounter)} / {len(position)}',(150,50),scale=2,thickness=2,offset=0,colorR=(203,135,130))\n",
    "while True:\n",
    "    if cap.get(cv2.CAP_PROP_POS_FRAMES) == cap.get(cv2.CAP_PROP_FRAME_COUNT):\n",
    "        cap.set(cv2.CAP_PROP_POS_FRAMES,0)\n",
    "    success,img=cap.read()\n",
    "    img=cv2.resize(img,(700,500))\n",
    "    \n",
    "    gray=cv2.cvtColor(img,cv2.COLOR_BGR2GRAY)\n",
    "    blur=cv2.GaussianBlur(gray,(3,3),1)\n",
    "    thresh=cv2.adaptiveThreshold(blur,255,cv2.ADAPTIVE_THRESH_GAUSSIAN_C,cv2.THRESH_BINARY_INV,25,16)\n",
    "    medianblur=cv2.medianBlur(thresh,5)\n",
    "    dilate=cv2.dilate(medianblur,kernel,iterations=1)\n",
    "    #cv2.imshow('video',img)\n",
    "    checkparkingspace(dilate)\n",
    "    if cv2.waitKey(1) & 0xFF==ord('q'):\n",
    "        break\n",
    "cap.release()\n",
    "cv2.destroyAllWindows()"
   ]
  },
  {
   "cell_type": "code",
   "execution_count": null,
   "id": "f29e222b",
   "metadata": {},
   "outputs": [],
   "source": []
  }
 ],
 "metadata": {
  "kernelspec": {
   "display_name": "Python 3 (ipykernel)",
   "language": "python",
   "name": "python3"
  },
  "language_info": {
   "codemirror_mode": {
    "name": "ipython",
    "version": 3
   },
   "file_extension": ".py",
   "mimetype": "text/x-python",
   "name": "python",
   "nbconvert_exporter": "python",
   "pygments_lexer": "ipython3",
   "version": "3.9.12"
  }
 },
 "nbformat": 4,
 "nbformat_minor": 5
}
